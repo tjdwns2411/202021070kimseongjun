{
  "nbformat": 4,
  "nbformat_minor": 0,
  "metadata": {
    "colab": {
      "provenance": [],
      "authorship_tag": "ABX9TyOLbi7lKw2DZ3jWdj/LrwPR",
      "include_colab_link": true
    },
    "kernelspec": {
      "name": "python3",
      "display_name": "Python 3"
    },
    "language_info": {
      "name": "python"
    }
  },
  "cells": [
    {
      "cell_type": "markdown",
      "metadata": {
        "id": "view-in-github",
        "colab_type": "text"
      },
      "source": [
        "<a href=\"https://colab.research.google.com/github/tjdwns2411/202021070kimseongjun/blob/main/Untitled0.ipynb\" target=\"_parent\"><img src=\"https://colab.research.google.com/assets/colab-badge.svg\" alt=\"Open In Colab\"/></a>"
      ]
    },
    {
      "cell_type": "code",
      "execution_count": 1,
      "metadata": {
        "colab": {
          "base_uri": "https://localhost:8080/",
          "height": 394
        },
        "id": "PnCxdiv6G_K5",
        "outputId": "7191b468-3bb3-4b08-bbcd-99abe98595e1"
      },
      "outputs": [
        {
          "output_type": "error",
          "ename": "ModuleNotFoundError",
          "evalue": "ignored",
          "traceback": [
            "\u001b[0;31m---------------------------------------------------------------------------\u001b[0m",
            "\u001b[0;31mModuleNotFoundError\u001b[0m                       Traceback (most recent call last)",
            "\u001b[0;32m<ipython-input-1-59ec11a4f5d7>\u001b[0m in \u001b[0;36m<cell line: 1>\u001b[0;34m()\u001b[0m\n\u001b[0;32m----> 1\u001b[0;31m \u001b[0;32mimport\u001b[0m \u001b[0mstreamlit\u001b[0m \u001b[0;32mas\u001b[0m \u001b[0mst\u001b[0m\u001b[0;34m\u001b[0m\u001b[0;34m\u001b[0m\u001b[0m\n\u001b[0m\u001b[1;32m      2\u001b[0m \u001b[0;32mimport\u001b[0m \u001b[0mnumpy\u001b[0m \u001b[0;32mas\u001b[0m \u001b[0mnp\u001b[0m\u001b[0;34m\u001b[0m\u001b[0;34m\u001b[0m\u001b[0m\n\u001b[1;32m      3\u001b[0m \u001b[0;32mimport\u001b[0m \u001b[0mmatplotlib\u001b[0m\u001b[0;34m.\u001b[0m\u001b[0mpyplot\u001b[0m \u001b[0;32mas\u001b[0m \u001b[0mplt\u001b[0m\u001b[0;34m\u001b[0m\u001b[0;34m\u001b[0m\u001b[0m\n\u001b[1;32m      4\u001b[0m \u001b[0;32mimport\u001b[0m \u001b[0mcontrol\u001b[0m\u001b[0;34m\u001b[0m\u001b[0;34m\u001b[0m\u001b[0m\n\u001b[1;32m      5\u001b[0m \u001b[0;34m\u001b[0m\u001b[0m\n",
            "\u001b[0;31mModuleNotFoundError\u001b[0m: No module named 'streamlit'",
            "",
            "\u001b[0;31m---------------------------------------------------------------------------\u001b[0;32m\nNOTE: If your import is failing due to a missing package, you can\nmanually install dependencies using either !pip or !apt.\n\nTo view examples of installing some common dependencies, click the\n\"Open Examples\" button below.\n\u001b[0;31m---------------------------------------------------------------------------\u001b[0m\n"
          ],
          "errorDetails": {
            "actions": [
              {
                "action": "open_url",
                "actionText": "Open Examples",
                "url": "/notebooks/snippets/importing_libraries.ipynb"
              }
            ]
          }
        }
      ],
      "source": [
        "import streamlit as st\n",
        "import numpy as np\n",
        "import matplotlib.pyplot as plt\n",
        "import control\n",
        "\n",
        "# 전달함수 G(s) 정의\n",
        "num = [100] # 분자 계수\n",
        "den = [1, 5, 6] # 분모 계수: s^2 + 5s + 6\n",
        "G = control.TransferFunction(num, den)\n",
        "\n",
        "# 폐루프 전달함수 T(s) 계산\n",
        "H = 1  # 피드백 루프의 전달함수 (1이면 피드백이 없는 상태)\n",
        "T = control.series(G, H)\n",
        "T = control.minreal(T)  # 최소 실수화\n",
        "\n",
        "# 출력 값 출력\n",
        "st.write('전달함수:')\n",
        "st.latex(r\"\\frac{100}{{(s+2)(s+3)+100}}\")\n",
        "\n",
        "# 시간 벡터 생성\n",
        "t = np.linspace(0, 10, 1000)\n",
        "\n",
        "# Unit step 입력 생성\n",
        "u = np.ones_like(t)\n",
        "\n",
        "# 시스템 응답 계산\n",
        "t, y = control.step_response(T, T=t, input=u)\n",
        "\n",
        "# 응답곡선 그리기\n",
        "fig1, ax1 = plt.subplots()\n",
        "ax1.plot(t, y)\n",
        "ax1.set_xlabel('Time')\n",
        "ax1.set_ylabel('Output')\n",
        "ax1.set_title('Step Response')\n",
        "ax1.grid(True)\n",
        "\n",
        "# 주파수 응답 계산\n",
        "omega, mag, phase = control.bode(T)\n",
        "\n",
        "# 보드선도 그리기\n",
        "fig2, (ax2, ax3) = plt.subplots(2, 1)\n",
        "ax2.semilogx(omega, mag)  # 주파수 응답의 크기\n",
        "ax2.set_xlabel('Frequency')\n",
        "ax2.set_ylabel('Magnitude (dB)')\n",
        "ax2.set_title('Bode Plot - Magnitude')\n",
        "ax2.grid(True)\n",
        "\n",
        "ax3.semilogx(omega, phase)  # 주파수 응답의 위상\n",
        "ax3.set_xlabel('Frequency')\n",
        "ax3.set_ylabel('Phase (degrees)')\n",
        "ax3.set_title('Bode Plot - Phase')\n",
        "ax3.grid(True)\n",
        "\n",
        "# 그래프를 Streamlit 앱에 출력\n",
        "st.write('Step Response:')\n",
        "st.pyplot(fig1)\n",
        "\n",
        "st.write('Bode Plot:')\n",
        "st.pyplot(fig2)\n",
        "\n",
        "# 시스템 응답 계산\n",
        "t, y = control.step_response(T, T=t, input=u)\n",
        "\n",
        "# 응답곡선 그리기\n",
        "fig1, ax1 = plt.subplots()\n",
        "ax1.plot(t, y)\n",
        "ax1.set_xlabel('Time')\n",
        "ax1.set_ylabel('Output')\n",
        "ax1.set_title('Step Response')\n",
        "ax1.grid(True)\n",
        "\n",
        "# 그래프를 Streamlit 앱에 출력\n",
        "st.write('Step Response:')\n",
        "st.pyplot(fig1)"
      ]
    }
  ]
}